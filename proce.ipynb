{
 "cells": [
  {
   "cell_type": "code",
   "execution_count": 11,
   "metadata": {},
   "outputs": [],
   "source": [
    "import numpy as np\n",
    "import pandas as pd\n"
   ]
  },
  {
   "cell_type": "code",
   "execution_count": 2,
   "metadata": {},
   "outputs": [
    {
     "data": {
      "text/html": [
       "<div>\n",
       "<style scoped>\n",
       "    .dataframe tbody tr th:only-of-type {\n",
       "        vertical-align: middle;\n",
       "    }\n",
       "\n",
       "    .dataframe tbody tr th {\n",
       "        vertical-align: top;\n",
       "    }\n",
       "\n",
       "    .dataframe thead th {\n",
       "        text-align: right;\n",
       "    }\n",
       "</style>\n",
       "<table border=\"1\" class=\"dataframe\">\n",
       "  <thead>\n",
       "    <tr style=\"text-align: right;\">\n",
       "      <th></th>\n",
       "      <th>osmid</th>\n",
       "      <th>y</th>\n",
       "      <th>x</th>\n",
       "    </tr>\n",
       "  </thead>\n",
       "  <tbody>\n",
       "    <tr>\n",
       "      <th>0</th>\n",
       "      <td>2.558506e+07</td>\n",
       "      <td>39.901987</td>\n",
       "      <td>116.385578</td>\n",
       "    </tr>\n",
       "    <tr>\n",
       "      <th>1</th>\n",
       "      <td>2.558508e+07</td>\n",
       "      <td>39.899003</td>\n",
       "      <td>116.386792</td>\n",
       "    </tr>\n",
       "    <tr>\n",
       "      <th>2</th>\n",
       "      <td>2.558509e+07</td>\n",
       "      <td>39.898860</td>\n",
       "      <td>116.381862</td>\n",
       "    </tr>\n",
       "    <tr>\n",
       "      <th>3</th>\n",
       "      <td>2.558512e+07</td>\n",
       "      <td>39.900544</td>\n",
       "      <td>116.377850</td>\n",
       "    </tr>\n",
       "    <tr>\n",
       "      <th>4</th>\n",
       "      <td>2.558512e+07</td>\n",
       "      <td>39.902940</td>\n",
       "      <td>116.377763</td>\n",
       "    </tr>\n",
       "    <tr>\n",
       "      <th>...</th>\n",
       "      <td>...</td>\n",
       "      <td>...</td>\n",
       "      <td>...</td>\n",
       "    </tr>\n",
       "    <tr>\n",
       "      <th>37481</th>\n",
       "      <td>1.007778e+10</td>\n",
       "      <td>39.996019</td>\n",
       "      <td>116.222735</td>\n",
       "    </tr>\n",
       "    <tr>\n",
       "      <th>37482</th>\n",
       "      <td>1.009133e+10</td>\n",
       "      <td>39.896058</td>\n",
       "      <td>116.599433</td>\n",
       "    </tr>\n",
       "    <tr>\n",
       "      <th>37483</th>\n",
       "      <td>1.009133e+10</td>\n",
       "      <td>39.773362</td>\n",
       "      <td>116.173259</td>\n",
       "    </tr>\n",
       "    <tr>\n",
       "      <th>37484</th>\n",
       "      <td>1.009133e+10</td>\n",
       "      <td>39.775494</td>\n",
       "      <td>116.169075</td>\n",
       "    </tr>\n",
       "    <tr>\n",
       "      <th>37485</th>\n",
       "      <td>1.009133e+10</td>\n",
       "      <td>39.773812</td>\n",
       "      <td>116.171916</td>\n",
       "    </tr>\n",
       "  </tbody>\n",
       "</table>\n",
       "<p>37486 rows × 3 columns</p>\n",
       "</div>"
      ],
      "text/plain": [
       "              osmid          y           x\n",
       "0      2.558506e+07  39.901987  116.385578\n",
       "1      2.558508e+07  39.899003  116.386792\n",
       "2      2.558509e+07  39.898860  116.381862\n",
       "3      2.558512e+07  39.900544  116.377850\n",
       "4      2.558512e+07  39.902940  116.377763\n",
       "...             ...        ...         ...\n",
       "37481  1.007778e+10  39.996019  116.222735\n",
       "37482  1.009133e+10  39.896058  116.599433\n",
       "37483  1.009133e+10  39.773362  116.173259\n",
       "37484  1.009133e+10  39.775494  116.169075\n",
       "37485  1.009133e+10  39.773812  116.171916\n",
       "\n",
       "[37486 rows x 3 columns]"
      ]
     },
     "execution_count": 2,
     "metadata": {},
     "output_type": "execute_result"
    }
   ],
   "source": [
    "node = pd.read_table(\"./node.txt\",delimiter=\",\")\n",
    "node[\"osmid\"].astype(\"int64\")\n",
    "node = node[[\"osmid\",\"y\",\"x\"]]\n",
    "node"
   ]
  },
  {
   "cell_type": "code",
   "execution_count": 3,
   "metadata": {},
   "outputs": [],
   "source": [
    "node_info = {}\n",
    "num = 0\n",
    "for i in range(node.shape[0]):\n",
    "    # print(round(node[\"osmid\"][i]))\n",
    "    node_info[round(node[\"osmid\"][i])] = [num,node[\"y\"][i],node[\"x\"][i]]\n",
    "    num = num+1"
   ]
  },
  {
   "cell_type": "code",
   "execution_count": 18,
   "metadata": {},
   "outputs": [
    {
     "name": "stderr",
     "output_type": "stream",
     "text": [
      "e:\\Anaconda\\envs\\pytorch\\lib\\site-packages\\IPython\\core\\interactiveshell.py:3418: DtypeWarning: Columns (7) have mixed types.Specify dtype option on import or set low_memory=False.\n",
      "  exec(code_obj, self.user_global_ns, self.user_ns)\n"
     ]
    },
    {
     "data": {
      "text/html": [
       "<div>\n",
       "<style scoped>\n",
       "    .dataframe tbody tr th:only-of-type {\n",
       "        vertical-align: middle;\n",
       "    }\n",
       "\n",
       "    .dataframe tbody tr th {\n",
       "        vertical-align: top;\n",
       "    }\n",
       "\n",
       "    .dataframe thead th {\n",
       "        text-align: right;\n",
       "    }\n",
       "</style>\n",
       "<table border=\"1\" class=\"dataframe\">\n",
       "  <thead>\n",
       "    <tr style=\"text-align: right;\">\n",
       "      <th></th>\n",
       "      <th>FID</th>\n",
       "      <th>u</th>\n",
       "      <th>v</th>\n",
       "    </tr>\n",
       "  </thead>\n",
       "  <tbody>\n",
       "    <tr>\n",
       "      <th>0</th>\n",
       "      <td>0</td>\n",
       "      <td>2.558506e+07</td>\n",
       "      <td>5.336507e+08</td>\n",
       "    </tr>\n",
       "    <tr>\n",
       "      <th>1</th>\n",
       "      <td>1</td>\n",
       "      <td>2.558506e+07</td>\n",
       "      <td>8.835881e+09</td>\n",
       "    </tr>\n",
       "    <tr>\n",
       "      <th>2</th>\n",
       "      <td>2</td>\n",
       "      <td>2.558506e+07</td>\n",
       "      <td>3.427913e+08</td>\n",
       "    </tr>\n",
       "    <tr>\n",
       "      <th>3</th>\n",
       "      <td>3</td>\n",
       "      <td>2.558508e+07</td>\n",
       "      <td>1.414035e+09</td>\n",
       "    </tr>\n",
       "    <tr>\n",
       "      <th>4</th>\n",
       "      <td>4</td>\n",
       "      <td>2.558508e+07</td>\n",
       "      <td>9.378036e+09</td>\n",
       "    </tr>\n",
       "    <tr>\n",
       "      <th>...</th>\n",
       "      <td>...</td>\n",
       "      <td>...</td>\n",
       "      <td>...</td>\n",
       "    </tr>\n",
       "    <tr>\n",
       "      <th>86311</th>\n",
       "      <td>86311</td>\n",
       "      <td>1.009133e+10</td>\n",
       "      <td>4.076207e+09</td>\n",
       "    </tr>\n",
       "    <tr>\n",
       "      <th>86312</th>\n",
       "      <td>86312</td>\n",
       "      <td>1.009133e+10</td>\n",
       "      <td>5.345749e+08</td>\n",
       "    </tr>\n",
       "    <tr>\n",
       "      <th>86313</th>\n",
       "      <td>86313</td>\n",
       "      <td>1.009133e+10</td>\n",
       "      <td>9.783252e+09</td>\n",
       "    </tr>\n",
       "    <tr>\n",
       "      <th>86314</th>\n",
       "      <td>86314</td>\n",
       "      <td>1.009133e+10</td>\n",
       "      <td>1.009133e+10</td>\n",
       "    </tr>\n",
       "    <tr>\n",
       "      <th>86315</th>\n",
       "      <td>86315</td>\n",
       "      <td>1.009133e+10</td>\n",
       "      <td>1.009133e+10</td>\n",
       "    </tr>\n",
       "  </tbody>\n",
       "</table>\n",
       "<p>86316 rows × 3 columns</p>\n",
       "</div>"
      ],
      "text/plain": [
       "         FID             u             v\n",
       "0          0  2.558506e+07  5.336507e+08\n",
       "1          1  2.558506e+07  8.835881e+09\n",
       "2          2  2.558506e+07  3.427913e+08\n",
       "3          3  2.558508e+07  1.414035e+09\n",
       "4          4  2.558508e+07  9.378036e+09\n",
       "...      ...           ...           ...\n",
       "86311  86311  1.009133e+10  4.076207e+09\n",
       "86312  86312  1.009133e+10  5.345749e+08\n",
       "86313  86313  1.009133e+10  9.783252e+09\n",
       "86314  86314  1.009133e+10  1.009133e+10\n",
       "86315  86315  1.009133e+10  1.009133e+10\n",
       "\n",
       "[86316 rows x 3 columns]"
      ]
     },
     "execution_count": 18,
     "metadata": {},
     "output_type": "execute_result"
    }
   ],
   "source": [
    "edge = pd.read_table(\"./edge.txt\",delimiter=\",\")\n",
    "edge = edge[[\"FID\",\"u\",\"v\"]]\n",
    "# node[\"osmid\"].astype(\"int64\")\n",
    "edge"
   ]
  },
  {
   "cell_type": "code",
   "execution_count": 19,
   "metadata": {},
   "outputs": [
    {
     "data": {
      "text/plain": [
       "(37404,)"
      ]
     },
     "execution_count": 19,
     "metadata": {},
     "output_type": "execute_result"
    }
   ],
   "source": [
    "np.unique(edge[\"u\"].to_numpy()).shape\n",
    "# "
   ]
  },
  {
   "cell_type": "code",
   "execution_count": 20,
   "metadata": {},
   "outputs": [],
   "source": [
    "import math\n",
    "\"\"\"所谓方位角是与正北方向、顺时针之间的夹角\"\"\"\n",
    "def calc_azimuth(lat1, lon1, lat2, lon2):\n",
    "    lat1_rad = lat1 * math.pi / 180\n",
    "    lon1_rad = lon1 * math.pi / 180\n",
    "    lat2_rad = lat2 * math.pi / 180\n",
    "    lon2_rad = lon2 * math.pi / 180\n",
    "\n",
    "    y = math.sin(lon2_rad - lon1_rad) * math.cos(lat2_rad)\n",
    "    x = math.cos(lat1_rad) * math.sin(lat2_rad) - \\\n",
    "        math.sin(lat1_rad) * math.cos(lat2_rad) * math.cos(lon2_rad - lon1_rad)\n",
    "\n",
    "    brng = math.atan2(y, x) * 180 / math.pi\n",
    "\n",
    "    return float((brng + 360.0) % 360.0)"
   ]
  },
  {
   "cell_type": "code",
   "execution_count": 21,
   "metadata": {},
   "outputs": [],
   "source": [
    "edge_dir_emb = []\n",
    "\n",
    "K = 8\n",
    "W = 360/K\n",
    "\n",
    "for index,item in edge.iterrows():\n",
    "    \"\"\"\n",
    "    FID            0.0\n",
    "    u       25585055.0\n",
    "    v      533650673.0\n",
    "    Name: 0, dtype: float64\n",
    "    \"\"\"\n",
    "    # print(round(item['v']))\n",
    "    # print(node_info[round(item['v'])])\n",
    "    \"\"\"\n",
    "    [39.9019869, 116.3855782]\n",
    "    \"\"\"\n",
    "    temp = []\n",
    "    temp.append(int(item[\"FID\"]))\n",
    "    # temp.append(round(item[\"u\"]))\n",
    "    temp.append(node_info[round(item[\"u\"])][0])  # start node \n",
    "    # temp.append(round(item[\"v\"]))\n",
    "    temp.append(node_info[round(item[\"v\"])][0])   # end node \n",
    "    dir_angle = calc_azimuth(node_info[round(item['u'])][1],node_info[round(item['u'])][2],node_info[round(item['v'])][1],node_info[round(item['v'])][2])\n",
    "    # print(int(dir_angle))\n",
    "    temp.append(int(dir_angle))\n",
    "\n",
    "    dir_interval = int(dir_angle/W)\n",
    "    # print(dir_interval)\n",
    "    temp.append(dir_interval)\n",
    "\n",
    "    edge_dir_emb.append(temp)\n",
    "\n",
    "    # break\n"
   ]
  },
  {
   "cell_type": "code",
   "execution_count": 12,
   "metadata": {},
   "outputs": [],
   "source": [
    "# edge_dir_emb = np.array(edge_dir_emb)\n",
    "# edge_dir_emb\n",
    "# edge_dir_emb[:,1]\n",
    "# len(np.unique(edge_dir_emb[:,1]))\n",
    "# np.save(\"./1114/edge_dir_emb.npy\",edge_dir_emb)\n",
    "\n",
    "# \"\"\"\n",
    "# edgeid，u，v,v_id,方向角,象限  ,\n",
    "# array([[    0,     0,  4046,   106,     2],\n",
    "#        [    1,     0, 29680,   359,     7],\n",
    "#        [    2,     0,  2488,   191,     4],\n",
    "#        ...,\n",
    "#        [86313, 37484, 36319,    36,     0],\n",
    "#        [86314, 37484, 37485,   127,     2],\n",
    "#        [86315, 37485, 37484,   307,     6]])\n",
    "# \"\"\"\n",
    "edge_dir_emb = pd.read_csv(\"./1114/edge_dir_emb-t.csv\")\n",
    "a = edge_dir_emb\n",
    "# a = pd.DataFrame(edge_dir_emb)\n",
    "# print(a[\"1\"])\n",
    "# a.to_csv(\"./1114/edge_dir_emb.csv\",index=None)\n",
    "total = 0\n",
    "for i in range(37486):\n",
    "    temp = a[a[\"1\"]==i].to_numpy()[:,4]\n",
    "    if(len(temp)==0):\n",
    "        continue\n",
    "    # print(temp)\n",
    "    if(len(temp)!=len(np.unique(temp))):\n",
    "        total+=1\n",
    "        # print(len(temp)-len(np.unique(temp)))\n",
    "        # print(i)\n",
    "    # break"
   ]
  },
  {
   "cell_type": "code",
   "execution_count": 17,
   "metadata": {},
   "outputs": [],
   "source": [
    "np.save(\"./1114/edge_dir_emb.npy\",a.to_numpy())"
   ]
  },
  {
   "cell_type": "code",
   "execution_count": 35,
   "metadata": {},
   "outputs": [],
   "source": [
    "## 得到 edgeid_node_dir_map\n",
    "edge_dir_emb = edge_dir_emb.to_numpy()\n",
    "# print(edge_dir_emb)\n",
    "edgeid_node_dir_map = {}\n",
    "for item in edge_dir_emb:\n",
    "    # print(item)\n",
    "    edgeid_node_dir_map[item[0]] = item\n",
    "    # break\n",
    "    # print(len(item[4].append(item[5])))\n",
    "    # break"
   ]
  },
  {
   "cell_type": "code",
   "execution_count": 37,
   "metadata": {},
   "outputs": [],
   "source": [
    "len(edgeid_node_dir_map)\n",
    "# edgeid_node_dir_map\n",
    "# \"\"\"\n",
    "# 0: array([   0,    0, 4046,  106,    2]),\n",
    "#  1: array([    1,     0, 29680,   359,     7]),\n",
    "#  2: array([   2,    0, 2488,  191,    4]),\n",
    "#  3: array([    3,     1, 11091,   317,     7]),\n",
    "#  4: array([    4,     1, 33037,   268,     5]),\n",
    "#  5: array([    5,     2, 11090,     1,     0]),\n",
    "#  6: array([    6,     2, 16079,   267,     5]),\n",
    "#  7: array([  7,   3,   4, 358,   7]),\n",
    "#  8: array([   8,    3, 2349,  176,    3]),\n",
    "#  9: array([   9,    3, 6167,  268,    5]),\n",
    "# #  10: array([ 10,   4,   3, 178,   3]),\n",
    "# \"\"\"\n",
    "np.save(\"./1114//edgeid_node_dir_map_eid.npy\",edgeid_node_dir_map)"
   ]
  },
  {
   "cell_type": "markdown",
   "metadata": {},
   "source": [
    "# 处理数据集"
   ]
  },
  {
   "cell_type": "code",
   "execution_count": 38,
   "metadata": {},
   "outputs": [],
   "source": [
    "import os\n",
    "path = \"../../fmm/bj-output-omp-clean/\"\n",
    "files = os.listdir(path)\n",
    "# files.sort(key=lambda x:int(x.split('.')[0]))\n",
    "\n",
    "record_total = 0\n",
    "len_total = 0\n",
    "\n",
    "max_len = 0\n",
    "min_len = 10000\n",
    "\n",
    "\n",
    "# 保存子轨迹 大于等于15\n",
    "traj = []\n",
    "\n",
    "\n",
    "# exit()\n",
    "for file in files:\n",
    "    # print(file)\n",
    "    sub_traj_mapped = pd.read_csv(path+\"{}\".format(file),delimiter=\";\")\n",
    "    record_total = record_total + sub_traj_mapped.shape[0]\n",
    "    # print(sub_traj_mapped)\n",
    "    # break\n",
    "    for index,row in sub_traj_mapped.iterrows():\n",
    "        # print(row[0].split(\"\\\"\")[1])  # \n",
    "        # break\n",
    "        if len(row[0].split(\"\\\"\"))==5:\n",
    "            if len(row[0].split(\"\\\"\")[1].split(\",\"))>=15:\n",
    "                traj.append(row[0].split(\"\\\"\")[1]+\",\"+file.split(\".\")[0])  # 加上车辆ID\n",
    "                # traj.append()"
   ]
  },
  {
   "cell_type": "code",
   "execution_count": null,
   "metadata": {},
   "outputs": [],
   "source": [
    "traj  # ['82397,352,32434,297,35115,33296,33299,1736,609,19166,86233,611,85744,26248,26247,33309,26245,26243,10'"
   ]
  },
  {
   "cell_type": "code",
   "execution_count": 39,
   "metadata": {},
   "outputs": [],
   "source": [
    "id_ndoe_dir_traj = []\n",
    "\n",
    "for item in traj:\n",
    "    # print(item)\n",
    "    \n",
    "    sub_traj = [int(i) for i in item.split(\",\")]\n",
    "    # print(sub_traj[:-1])\n",
    "\n",
    "    # break\n",
    "    # for index,location in enumerate(sub_traj):\n",
    "        # sub_traj[index] = label_id[location]\n",
    "    temp = []\n",
    "    for edgeid in sub_traj[:-1]:\n",
    "        # print(edgeid)\n",
    "        temp.append(np.append(edgeid_node_dir_map[edgeid],sub_traj[-1]))\n",
    "    id_ndoe_dir_traj.append(temp)\n",
    "    # break"
   ]
  },
  {
   "cell_type": "code",
   "execution_count": 40,
   "metadata": {},
   "outputs": [
    {
     "name": "stderr",
     "output_type": "stream",
     "text": [
      "e:\\Anaconda\\envs\\pytorch\\lib\\site-packages\\ipykernel_launcher.py:1: VisibleDeprecationWarning: Creating an ndarray from ragged nested sequences (which is a list-or-tuple of lists-or-tuples-or ndarrays with different lengths or shapes) is deprecated. If you meant to do this, you must specify 'dtype=object' when creating the ndarray.\n",
      "  \"\"\"Entry point for launching an IPython kernel.\n"
     ]
    },
    {
     "data": {
      "text/plain": [
       "(19111,)"
      ]
     },
     "execution_count": 40,
     "metadata": {},
     "output_type": "execute_result"
    }
   ],
   "source": [
    "id_ndoe_dir_traj = np.array(id_ndoe_dir_traj)\n",
    "# np.save(\"./id_ndoe_dir_traj.npy\",id_ndoe_dir_traj)\n",
    "id_ndoe_dir_traj.shape"
   ]
  },
  {
   "cell_type": "markdown",
   "metadata": {},
   "source": [
    "## 分割 滑动窗口为5"
   ]
  },
  {
   "cell_type": "code",
   "execution_count": 41,
   "metadata": {},
   "outputs": [],
   "source": [
    "traj_dataset = []\n",
    "z = 5\n",
    "for item in id_ndoe_dir_traj:\n",
    "    # print(item)\n",
    "    # print(len(item))\n",
    "    \"\"\"\n",
    "    edgeid,node_v,node_id,angle,象限\n",
    "    [[39330, 2382886309, 17409, 270, 6],....]\n",
    "            21\n",
    "    \"\"\"\n",
    "    # break\n",
    "    for i  in range(len(item)):\n",
    "        # print(item[i*z:15+i*z])\n",
    "        if(len(item[i*z:15+i*z])==15):\n",
    "            traj_dataset.append(item[i*z:15+i*z])\n",
    "    # break"
   ]
  },
  {
   "cell_type": "code",
   "execution_count": 42,
   "metadata": {},
   "outputs": [
    {
     "data": {
      "text/plain": [
       "(102035, 15, 6)"
      ]
     },
     "execution_count": 42,
     "metadata": {},
     "output_type": "execute_result"
    }
   ],
   "source": [
    "traj_dataset = np.array(traj_dataset)\n",
    "traj_dataset.shape  # (102035, 15, 6)  edgeid,node_v,node_id,angle,象限,taxiid"
   ]
  },
  {
   "cell_type": "code",
   "execution_count": 43,
   "metadata": {},
   "outputs": [],
   "source": [
    "np.save(\"./1114//traj_dataset_window5_5fea_taxiid.npy\",traj_dataset)"
   ]
  },
  {
   "cell_type": "markdown",
   "metadata": {},
   "source": [
    "## 路网约束 node_num * 8 "
   ]
  },
  {
   "cell_type": "code",
   "execution_count": 26,
   "metadata": {},
   "outputs": [
    {
     "name": "stdout",
     "output_type": "stream",
     "text": [
      "[[    0     0  4046   106     2]\n",
      " [    1     0 29680   359     7]\n",
      " [    2     0  2488   191     4]\n",
      " ...\n",
      " [86313 37484 36319    36     0]\n",
      " [86314 37484 37485   127     2]\n",
      " [86315 37485 37484   307     6]]\n"
     ]
    }
   ],
   "source": [
    "edge_dir_emb = pd.read_csv(\"./1114/edge_dir_emb-t.csv\").to_numpy()\n",
    "print(edge_dir_emb)\n",
    "\"\"\"\n",
    "[[0, 25585055, 0, 533650673, 4046, 106, 2],\n",
    " [1, 25585055, 0, 8835880543, 29680, 359, 7],\n",
    " [2, 25585055, 0, 342791346, 2488, 191, 4],\n",
    " [3, 25585083, 1, 1414035094, 11091, 317, 7],\n",
    " [4, 25585083, 1, 9378036221, 33037, 268, 5],\n",
    " [5, 25585092, 2, 1414035092, 11090, 1, 0],\n",
    " [6, 25585092, 2, 2099138477, 16079, 267, 5],\n",
    "\"\"\"\n",
    "node_mask = {}\n",
    "for item in edge_dir_emb:\n",
    "    # print(item)\n",
    "    if item[1] not in node_mask:\n",
    "        letter = [0 for _ in range(8)]\n",
    "        letter[item[4]] = 1\n",
    "        node_mask[item[1]] = letter\n",
    "    else:\n",
    "        node_mask[item[1]][item[4]] = 1\n",
    "    \n",
    "    # break"
   ]
  },
  {
   "cell_type": "code",
   "execution_count": 27,
   "metadata": {},
   "outputs": [],
   "source": [
    "node_mask\n",
    "np.save(\"./1114/node_mask.npy\",node_mask)"
   ]
  },
  {
   "cell_type": "code",
   "execution_count": 26,
   "metadata": {},
   "outputs": [],
   "source": [
    "dataset = np.load(\"./1114/traj_dataset_window5_5fea.npy\",allow_pickle=True)"
   ]
  }
 ],
 "metadata": {
  "kernelspec": {
   "display_name": "Python 3.7.1 ('pytorch')",
   "language": "python",
   "name": "python3"
  },
  "language_info": {
   "codemirror_mode": {
    "name": "ipython",
    "version": 3
   },
   "file_extension": ".py",
   "mimetype": "text/x-python",
   "name": "python",
   "nbconvert_exporter": "python",
   "pygments_lexer": "ipython3",
   "version": "3.7.1"
  },
  "orig_nbformat": 4,
  "vscode": {
   "interpreter": {
    "hash": "ae51ee3d492f24e83e77a52eb34bf16365894f8747390aa8e17995579dedf394"
   }
  }
 },
 "nbformat": 4,
 "nbformat_minor": 2
}
